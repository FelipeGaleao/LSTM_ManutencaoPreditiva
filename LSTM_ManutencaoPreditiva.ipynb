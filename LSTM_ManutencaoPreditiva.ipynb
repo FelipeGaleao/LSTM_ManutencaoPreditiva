{
 "cells": [
  {
   "cell_type": "code",
   "execution_count": 2,
   "metadata": {
    "collapsed": true
   },
   "outputs": [],
   "source": [
    "## Bibliotecas que usarei neste teste prático\n",
    "\n",
    "import keras\n",
    "import pandas as pd\n",
    "import numpy as np\n",
    "import matplotlib.pyplot as plt\n",
    "from sklearn import preprocessing\n",
    "from sklearn.metrics import confusion_matrix, recall_score, precision_score\n",
    "from keras.models import Sequential\n",
    "from keras.layers import Dense, Dropout, LSTM, Activation\n",
    "%matplotlib inline\n"
   ]
  },
  {
   "cell_type": "code",
   "execution_count": 3,
   "metadata": {},
   "outputs": [],
   "source": [
    "## Configurações do projeto \n",
    "\n",
    "np.random.seed(1234)\n",
    "PYTHONHASHSEED = 0 \n"
   ]
  },
  {
   "cell_type": "code",
   "execution_count": 4,
   "metadata": {
    "collapsed": true
   },
   "outputs": [],
   "source": [
    "## Leitura dos dados de treinamentos\n",
    "\n",
    "train_df = pd.read_csv('datasets/PM_train.txt', sep=\" \", header=None)\n",
    "train_df.drop(train_df.columns[[26, 27]], axis=1, inplace=True)\n",
    "train_df.columns = ['id', 'cycle', 'setting1', 'setting2', 'setting3', 's1', 's2', 's3',\n",
    "                     's4', 's5', 's6', 's7', 's8', 's9', 's10', 's11', 's12', 's13', 's14',\n",
    "                     's15', 's16', 's17', 's18', 's19', 's20', 's21']"
   ]
  },
  {
   "cell_type": "code",
   "execution_count": 5,
   "metadata": {
    "collapsed": true
   },
   "outputs": [],
   "source": [
    "# Leitura dos dados de teste \n",
    "test_df = pd.read_csv('datasets/PM_test.txt', sep=\" \", header=None)\n",
    "test_df.drop(test_df.columns[[26, 27]], axis=1, inplace=True)\n",
    "test_df.columns = ['id', 'cycle', 'setting1', 'setting2', 'setting3', 's1', 's2', 's3',\n",
    "                     's4', 's5', 's6', 's7', 's8', 's9', 's10', 's11', 's12', 's13', 's14',\n",
    "                     's15', 's16', 's17', 's18', 's19', 's20', 's21']"
   ]
  },
  {
   "cell_type": "code",
   "execution_count": 6,
   "metadata": {
    "collapsed": true
   },
   "outputs": [],
   "source": [
    "# Lendo o dataset verdadeiro que vai conter as informações de cada ciclo restante..\n",
    "truth_df = pd.read_csv('datasets/PM_truth.txt', sep=\" \", header=None)\n",
    "truth_df.drop(truth_df.columns[[1]], axis=1, inplace=True)"
   ]
  },
  {
   "cell_type": "code",
   "execution_count": 7,
   "metadata": {},
   "outputs": [
    {
     "output_type": "execute_result",
     "data": {
      "text/plain": [
       "   id  cycle  setting1  setting2  setting3      s1      s2       s3       s4  \\\n",
       "0   1      1   -0.0007   -0.0004     100.0  518.67  641.82  1589.70  1400.60   \n",
       "1   1      2    0.0019   -0.0003     100.0  518.67  642.15  1591.82  1403.14   \n",
       "2   1      3   -0.0043    0.0003     100.0  518.67  642.35  1587.99  1404.20   \n",
       "3   1      4    0.0007    0.0000     100.0  518.67  642.35  1582.79  1401.87   \n",
       "4   1      5   -0.0019   -0.0002     100.0  518.67  642.37  1582.85  1406.22   \n",
       "\n",
       "      s5  ...     s12      s13      s14     s15   s16  s17   s18    s19  \\\n",
       "0  14.62  ...  521.66  2388.02  8138.62  8.4195  0.03  392  2388  100.0   \n",
       "1  14.62  ...  522.28  2388.07  8131.49  8.4318  0.03  392  2388  100.0   \n",
       "2  14.62  ...  522.42  2388.03  8133.23  8.4178  0.03  390  2388  100.0   \n",
       "3  14.62  ...  522.86  2388.08  8133.83  8.3682  0.03  392  2388  100.0   \n",
       "4  14.62  ...  522.19  2388.04  8133.80  8.4294  0.03  393  2388  100.0   \n",
       "\n",
       "     s20      s21  \n",
       "0  39.06  23.4190  \n",
       "1  39.00  23.4236  \n",
       "2  38.95  23.3442  \n",
       "3  38.88  23.3739  \n",
       "4  38.90  23.4044  \n",
       "\n",
       "[5 rows x 26 columns]"
      ],
      "text/html": "<div>\n<style scoped>\n    .dataframe tbody tr th:only-of-type {\n        vertical-align: middle;\n    }\n\n    .dataframe tbody tr th {\n        vertical-align: top;\n    }\n\n    .dataframe thead th {\n        text-align: right;\n    }\n</style>\n<table border=\"1\" class=\"dataframe\">\n  <thead>\n    <tr style=\"text-align: right;\">\n      <th></th>\n      <th>id</th>\n      <th>cycle</th>\n      <th>setting1</th>\n      <th>setting2</th>\n      <th>setting3</th>\n      <th>s1</th>\n      <th>s2</th>\n      <th>s3</th>\n      <th>s4</th>\n      <th>s5</th>\n      <th>...</th>\n      <th>s12</th>\n      <th>s13</th>\n      <th>s14</th>\n      <th>s15</th>\n      <th>s16</th>\n      <th>s17</th>\n      <th>s18</th>\n      <th>s19</th>\n      <th>s20</th>\n      <th>s21</th>\n    </tr>\n  </thead>\n  <tbody>\n    <tr>\n      <th>0</th>\n      <td>1</td>\n      <td>1</td>\n      <td>-0.0007</td>\n      <td>-0.0004</td>\n      <td>100.0</td>\n      <td>518.67</td>\n      <td>641.82</td>\n      <td>1589.70</td>\n      <td>1400.60</td>\n      <td>14.62</td>\n      <td>...</td>\n      <td>521.66</td>\n      <td>2388.02</td>\n      <td>8138.62</td>\n      <td>8.4195</td>\n      <td>0.03</td>\n      <td>392</td>\n      <td>2388</td>\n      <td>100.0</td>\n      <td>39.06</td>\n      <td>23.4190</td>\n    </tr>\n    <tr>\n      <th>1</th>\n      <td>1</td>\n      <td>2</td>\n      <td>0.0019</td>\n      <td>-0.0003</td>\n      <td>100.0</td>\n      <td>518.67</td>\n      <td>642.15</td>\n      <td>1591.82</td>\n      <td>1403.14</td>\n      <td>14.62</td>\n      <td>...</td>\n      <td>522.28</td>\n      <td>2388.07</td>\n      <td>8131.49</td>\n      <td>8.4318</td>\n      <td>0.03</td>\n      <td>392</td>\n      <td>2388</td>\n      <td>100.0</td>\n      <td>39.00</td>\n      <td>23.4236</td>\n    </tr>\n    <tr>\n      <th>2</th>\n      <td>1</td>\n      <td>3</td>\n      <td>-0.0043</td>\n      <td>0.0003</td>\n      <td>100.0</td>\n      <td>518.67</td>\n      <td>642.35</td>\n      <td>1587.99</td>\n      <td>1404.20</td>\n      <td>14.62</td>\n      <td>...</td>\n      <td>522.42</td>\n      <td>2388.03</td>\n      <td>8133.23</td>\n      <td>8.4178</td>\n      <td>0.03</td>\n      <td>390</td>\n      <td>2388</td>\n      <td>100.0</td>\n      <td>38.95</td>\n      <td>23.3442</td>\n    </tr>\n    <tr>\n      <th>3</th>\n      <td>1</td>\n      <td>4</td>\n      <td>0.0007</td>\n      <td>0.0000</td>\n      <td>100.0</td>\n      <td>518.67</td>\n      <td>642.35</td>\n      <td>1582.79</td>\n      <td>1401.87</td>\n      <td>14.62</td>\n      <td>...</td>\n      <td>522.86</td>\n      <td>2388.08</td>\n      <td>8133.83</td>\n      <td>8.3682</td>\n      <td>0.03</td>\n      <td>392</td>\n      <td>2388</td>\n      <td>100.0</td>\n      <td>38.88</td>\n      <td>23.3739</td>\n    </tr>\n    <tr>\n      <th>4</th>\n      <td>1</td>\n      <td>5</td>\n      <td>-0.0019</td>\n      <td>-0.0002</td>\n      <td>100.0</td>\n      <td>518.67</td>\n      <td>642.37</td>\n      <td>1582.85</td>\n      <td>1406.22</td>\n      <td>14.62</td>\n      <td>...</td>\n      <td>522.19</td>\n      <td>2388.04</td>\n      <td>8133.80</td>\n      <td>8.4294</td>\n      <td>0.03</td>\n      <td>393</td>\n      <td>2388</td>\n      <td>100.0</td>\n      <td>38.90</td>\n      <td>23.4044</td>\n    </tr>\n  </tbody>\n</table>\n<p>5 rows × 26 columns</p>\n</div>"
     },
     "metadata": {},
     "execution_count": 7
    }
   ],
   "source": [
    "train_df = train_df.sort_values(['id','cycle'])\n",
    "train_df.head()"
   ]
  },
  {
   "cell_type": "code",
   "execution_count": 8,
   "metadata": {},
   "outputs": [
    {
     "output_type": "execute_result",
     "data": {
      "text/plain": [
       "   id  cycle  setting1  setting2  setting3      s1      s2       s3       s4  \\\n",
       "0   1      1   -0.0007   -0.0004     100.0  518.67  641.82  1589.70  1400.60   \n",
       "1   1      2    0.0019   -0.0003     100.0  518.67  642.15  1591.82  1403.14   \n",
       "2   1      3   -0.0043    0.0003     100.0  518.67  642.35  1587.99  1404.20   \n",
       "3   1      4    0.0007    0.0000     100.0  518.67  642.35  1582.79  1401.87   \n",
       "4   1      5   -0.0019   -0.0002     100.0  518.67  642.37  1582.85  1406.22   \n",
       "\n",
       "      s5  ...      s13      s14     s15   s16  s17   s18    s19    s20  \\\n",
       "0  14.62  ...  2388.02  8138.62  8.4195  0.03  392  2388  100.0  39.06   \n",
       "1  14.62  ...  2388.07  8131.49  8.4318  0.03  392  2388  100.0  39.00   \n",
       "2  14.62  ...  2388.03  8133.23  8.4178  0.03  390  2388  100.0  38.95   \n",
       "3  14.62  ...  2388.08  8133.83  8.3682  0.03  392  2388  100.0  38.88   \n",
       "4  14.62  ...  2388.04  8133.80  8.4294  0.03  393  2388  100.0  38.90   \n",
       "\n",
       "       s21  RUL  \n",
       "0  23.4190  191  \n",
       "1  23.4236  190  \n",
       "2  23.3442  189  \n",
       "3  23.3739  188  \n",
       "4  23.4044  187  \n",
       "\n",
       "[5 rows x 27 columns]"
      ],
      "text/html": "<div>\n<style scoped>\n    .dataframe tbody tr th:only-of-type {\n        vertical-align: middle;\n    }\n\n    .dataframe tbody tr th {\n        vertical-align: top;\n    }\n\n    .dataframe thead th {\n        text-align: right;\n    }\n</style>\n<table border=\"1\" class=\"dataframe\">\n  <thead>\n    <tr style=\"text-align: right;\">\n      <th></th>\n      <th>id</th>\n      <th>cycle</th>\n      <th>setting1</th>\n      <th>setting2</th>\n      <th>setting3</th>\n      <th>s1</th>\n      <th>s2</th>\n      <th>s3</th>\n      <th>s4</th>\n      <th>s5</th>\n      <th>...</th>\n      <th>s13</th>\n      <th>s14</th>\n      <th>s15</th>\n      <th>s16</th>\n      <th>s17</th>\n      <th>s18</th>\n      <th>s19</th>\n      <th>s20</th>\n      <th>s21</th>\n      <th>RUL</th>\n    </tr>\n  </thead>\n  <tbody>\n    <tr>\n      <th>0</th>\n      <td>1</td>\n      <td>1</td>\n      <td>-0.0007</td>\n      <td>-0.0004</td>\n      <td>100.0</td>\n      <td>518.67</td>\n      <td>641.82</td>\n      <td>1589.70</td>\n      <td>1400.60</td>\n      <td>14.62</td>\n      <td>...</td>\n      <td>2388.02</td>\n      <td>8138.62</td>\n      <td>8.4195</td>\n      <td>0.03</td>\n      <td>392</td>\n      <td>2388</td>\n      <td>100.0</td>\n      <td>39.06</td>\n      <td>23.4190</td>\n      <td>191</td>\n    </tr>\n    <tr>\n      <th>1</th>\n      <td>1</td>\n      <td>2</td>\n      <td>0.0019</td>\n      <td>-0.0003</td>\n      <td>100.0</td>\n      <td>518.67</td>\n      <td>642.15</td>\n      <td>1591.82</td>\n      <td>1403.14</td>\n      <td>14.62</td>\n      <td>...</td>\n      <td>2388.07</td>\n      <td>8131.49</td>\n      <td>8.4318</td>\n      <td>0.03</td>\n      <td>392</td>\n      <td>2388</td>\n      <td>100.0</td>\n      <td>39.00</td>\n      <td>23.4236</td>\n      <td>190</td>\n    </tr>\n    <tr>\n      <th>2</th>\n      <td>1</td>\n      <td>3</td>\n      <td>-0.0043</td>\n      <td>0.0003</td>\n      <td>100.0</td>\n      <td>518.67</td>\n      <td>642.35</td>\n      <td>1587.99</td>\n      <td>1404.20</td>\n      <td>14.62</td>\n      <td>...</td>\n      <td>2388.03</td>\n      <td>8133.23</td>\n      <td>8.4178</td>\n      <td>0.03</td>\n      <td>390</td>\n      <td>2388</td>\n      <td>100.0</td>\n      <td>38.95</td>\n      <td>23.3442</td>\n      <td>189</td>\n    </tr>\n    <tr>\n      <th>3</th>\n      <td>1</td>\n      <td>4</td>\n      <td>0.0007</td>\n      <td>0.0000</td>\n      <td>100.0</td>\n      <td>518.67</td>\n      <td>642.35</td>\n      <td>1582.79</td>\n      <td>1401.87</td>\n      <td>14.62</td>\n      <td>...</td>\n      <td>2388.08</td>\n      <td>8133.83</td>\n      <td>8.3682</td>\n      <td>0.03</td>\n      <td>392</td>\n      <td>2388</td>\n      <td>100.0</td>\n      <td>38.88</td>\n      <td>23.3739</td>\n      <td>188</td>\n    </tr>\n    <tr>\n      <th>4</th>\n      <td>1</td>\n      <td>5</td>\n      <td>-0.0019</td>\n      <td>-0.0002</td>\n      <td>100.0</td>\n      <td>518.67</td>\n      <td>642.37</td>\n      <td>1582.85</td>\n      <td>1406.22</td>\n      <td>14.62</td>\n      <td>...</td>\n      <td>2388.04</td>\n      <td>8133.80</td>\n      <td>8.4294</td>\n      <td>0.03</td>\n      <td>393</td>\n      <td>2388</td>\n      <td>100.0</td>\n      <td>38.90</td>\n      <td>23.4044</td>\n      <td>187</td>\n    </tr>\n  </tbody>\n</table>\n<p>5 rows × 27 columns</p>\n</div>"
     },
     "metadata": {},
     "execution_count": 8
    }
   ],
   "source": [
    "## Dataset de Treinamento (df_train)\n",
    "\n",
    "### Gerar a coluna que contem o RUL (Remaining Usefull Life or Time to Failure)\n",
    "### Iremos agrupar pelo asset_id até onde houve a falha nesse asset_id\n",
    "rul = pd.DataFrame(train_df.groupby('id')['cycle'].max()).reset_index()\n",
    "rul.columns = ['id', 'max']\n",
    "train_df = train_df.merge(rul, on=['id'], how='left')\n",
    "train_df['RUL'] = train_df['max'] - train_df['cycle']\n",
    "train_df.drop('max', axis=1, inplace=True)\n",
    "train_df.head()"
   ]
  },
  {
   "cell_type": "code",
   "execution_count": 9,
   "metadata": {
    "scrolled": false
   },
   "outputs": [
    {
     "output_type": "execute_result",
     "data": {
      "text/plain": [
       "   id  cycle  setting1  setting2  setting3      s1      s2       s3       s4  \\\n",
       "0   1      1   -0.0007   -0.0004     100.0  518.67  641.82  1589.70  1400.60   \n",
       "1   1      2    0.0019   -0.0003     100.0  518.67  642.15  1591.82  1403.14   \n",
       "2   1      3   -0.0043    0.0003     100.0  518.67  642.35  1587.99  1404.20   \n",
       "3   1      4    0.0007    0.0000     100.0  518.67  642.35  1582.79  1401.87   \n",
       "4   1      5   -0.0019   -0.0002     100.0  518.67  642.37  1582.85  1406.22   \n",
       "\n",
       "      s5  ...     s15   s16  s17   s18    s19    s20      s21  RUL  label1  \\\n",
       "0  14.62  ...  8.4195  0.03  392  2388  100.0  39.06  23.4190  191       0   \n",
       "1  14.62  ...  8.4318  0.03  392  2388  100.0  39.00  23.4236  190       0   \n",
       "2  14.62  ...  8.4178  0.03  390  2388  100.0  38.95  23.3442  189       0   \n",
       "3  14.62  ...  8.3682  0.03  392  2388  100.0  38.88  23.3739  188       0   \n",
       "4  14.62  ...  8.4294  0.03  393  2388  100.0  38.90  23.4044  187       0   \n",
       "\n",
       "   label2  \n",
       "0       0  \n",
       "1       0  \n",
       "2       0  \n",
       "3       0  \n",
       "4       0  \n",
       "\n",
       "[5 rows x 29 columns]"
      ],
      "text/html": "<div>\n<style scoped>\n    .dataframe tbody tr th:only-of-type {\n        vertical-align: middle;\n    }\n\n    .dataframe tbody tr th {\n        vertical-align: top;\n    }\n\n    .dataframe thead th {\n        text-align: right;\n    }\n</style>\n<table border=\"1\" class=\"dataframe\">\n  <thead>\n    <tr style=\"text-align: right;\">\n      <th></th>\n      <th>id</th>\n      <th>cycle</th>\n      <th>setting1</th>\n      <th>setting2</th>\n      <th>setting3</th>\n      <th>s1</th>\n      <th>s2</th>\n      <th>s3</th>\n      <th>s4</th>\n      <th>s5</th>\n      <th>...</th>\n      <th>s15</th>\n      <th>s16</th>\n      <th>s17</th>\n      <th>s18</th>\n      <th>s19</th>\n      <th>s20</th>\n      <th>s21</th>\n      <th>RUL</th>\n      <th>label1</th>\n      <th>label2</th>\n    </tr>\n  </thead>\n  <tbody>\n    <tr>\n      <th>0</th>\n      <td>1</td>\n      <td>1</td>\n      <td>-0.0007</td>\n      <td>-0.0004</td>\n      <td>100.0</td>\n      <td>518.67</td>\n      <td>641.82</td>\n      <td>1589.70</td>\n      <td>1400.60</td>\n      <td>14.62</td>\n      <td>...</td>\n      <td>8.4195</td>\n      <td>0.03</td>\n      <td>392</td>\n      <td>2388</td>\n      <td>100.0</td>\n      <td>39.06</td>\n      <td>23.4190</td>\n      <td>191</td>\n      <td>0</td>\n      <td>0</td>\n    </tr>\n    <tr>\n      <th>1</th>\n      <td>1</td>\n      <td>2</td>\n      <td>0.0019</td>\n      <td>-0.0003</td>\n      <td>100.0</td>\n      <td>518.67</td>\n      <td>642.15</td>\n      <td>1591.82</td>\n      <td>1403.14</td>\n      <td>14.62</td>\n      <td>...</td>\n      <td>8.4318</td>\n      <td>0.03</td>\n      <td>392</td>\n      <td>2388</td>\n      <td>100.0</td>\n      <td>39.00</td>\n      <td>23.4236</td>\n      <td>190</td>\n      <td>0</td>\n      <td>0</td>\n    </tr>\n    <tr>\n      <th>2</th>\n      <td>1</td>\n      <td>3</td>\n      <td>-0.0043</td>\n      <td>0.0003</td>\n      <td>100.0</td>\n      <td>518.67</td>\n      <td>642.35</td>\n      <td>1587.99</td>\n      <td>1404.20</td>\n      <td>14.62</td>\n      <td>...</td>\n      <td>8.4178</td>\n      <td>0.03</td>\n      <td>390</td>\n      <td>2388</td>\n      <td>100.0</td>\n      <td>38.95</td>\n      <td>23.3442</td>\n      <td>189</td>\n      <td>0</td>\n      <td>0</td>\n    </tr>\n    <tr>\n      <th>3</th>\n      <td>1</td>\n      <td>4</td>\n      <td>0.0007</td>\n      <td>0.0000</td>\n      <td>100.0</td>\n      <td>518.67</td>\n      <td>642.35</td>\n      <td>1582.79</td>\n      <td>1401.87</td>\n      <td>14.62</td>\n      <td>...</td>\n      <td>8.3682</td>\n      <td>0.03</td>\n      <td>392</td>\n      <td>2388</td>\n      <td>100.0</td>\n      <td>38.88</td>\n      <td>23.3739</td>\n      <td>188</td>\n      <td>0</td>\n      <td>0</td>\n    </tr>\n    <tr>\n      <th>4</th>\n      <td>1</td>\n      <td>5</td>\n      <td>-0.0019</td>\n      <td>-0.0002</td>\n      <td>100.0</td>\n      <td>518.67</td>\n      <td>642.37</td>\n      <td>1582.85</td>\n      <td>1406.22</td>\n      <td>14.62</td>\n      <td>...</td>\n      <td>8.4294</td>\n      <td>0.03</td>\n      <td>393</td>\n      <td>2388</td>\n      <td>100.0</td>\n      <td>38.90</td>\n      <td>23.4044</td>\n      <td>187</td>\n      <td>0</td>\n      <td>0</td>\n    </tr>\n  </tbody>\n</table>\n<p>5 rows × 29 columns</p>\n</div>"
     },
     "metadata": {},
     "execution_count": 9
    }
   ],
   "source": [
    "## Verificando se há a possibilidade de um indicador RUL ou até modelo para dizer se a máquina deve falhar nos próximos 20 ciclos\n",
    "\n",
    "w1 = 20\n",
    "w0 = 15\n",
    "\n",
    "# gerar label para w0 e w1 \n",
    "\n",
    "\n",
    "train_df['label1'] = np.where(train_df['RUL'] <= w1, 1, 0 )\n",
    "train_df['label2'] = train_df['label1']\n",
    "train_df.loc[train_df['RUL'] <= w0, 'label2'] = 2\n",
    "train_df.head()"
   ]
  },
  {
   "cell_type": "code",
   "execution_count": 10,
   "metadata": {},
   "outputs": [
    {
     "output_type": "execute_result",
     "data": {
      "text/plain": [
       "   id  cycle  setting1  setting2  setting3   s1        s2        s3        s4  \\\n",
       "0   1      1  0.459770  0.166667       0.0  0.0  0.183735  0.406802  0.309757   \n",
       "1   1      2  0.609195  0.250000       0.0  0.0  0.283133  0.453019  0.352633   \n",
       "2   1      3  0.252874  0.750000       0.0  0.0  0.343373  0.369523  0.370527   \n",
       "3   1      4  0.540230  0.500000       0.0  0.0  0.343373  0.256159  0.331195   \n",
       "4   1      5  0.390805  0.333333       0.0  0.0  0.349398  0.257467  0.404625   \n",
       "\n",
       "    s5  ...  s16       s17  s18  s19       s20       s21  RUL  label1  label2  \\\n",
       "0  0.0  ...  0.0  0.333333  0.0  0.0  0.713178  0.724662  191       0       0   \n",
       "1  0.0  ...  0.0  0.333333  0.0  0.0  0.666667  0.731014  190       0       0   \n",
       "2  0.0  ...  0.0  0.166667  0.0  0.0  0.627907  0.621375  189       0       0   \n",
       "3  0.0  ...  0.0  0.333333  0.0  0.0  0.573643  0.662386  188       0       0   \n",
       "4  0.0  ...  0.0  0.416667  0.0  0.0  0.589147  0.704502  187       0       0   \n",
       "\n",
       "   cycle_norm  \n",
       "0     0.00000  \n",
       "1     0.00277  \n",
       "2     0.00554  \n",
       "3     0.00831  \n",
       "4     0.01108  \n",
       "\n",
       "[5 rows x 30 columns]"
      ],
      "text/html": "<div>\n<style scoped>\n    .dataframe tbody tr th:only-of-type {\n        vertical-align: middle;\n    }\n\n    .dataframe tbody tr th {\n        vertical-align: top;\n    }\n\n    .dataframe thead th {\n        text-align: right;\n    }\n</style>\n<table border=\"1\" class=\"dataframe\">\n  <thead>\n    <tr style=\"text-align: right;\">\n      <th></th>\n      <th>id</th>\n      <th>cycle</th>\n      <th>setting1</th>\n      <th>setting2</th>\n      <th>setting3</th>\n      <th>s1</th>\n      <th>s2</th>\n      <th>s3</th>\n      <th>s4</th>\n      <th>s5</th>\n      <th>...</th>\n      <th>s16</th>\n      <th>s17</th>\n      <th>s18</th>\n      <th>s19</th>\n      <th>s20</th>\n      <th>s21</th>\n      <th>RUL</th>\n      <th>label1</th>\n      <th>label2</th>\n      <th>cycle_norm</th>\n    </tr>\n  </thead>\n  <tbody>\n    <tr>\n      <th>0</th>\n      <td>1</td>\n      <td>1</td>\n      <td>0.459770</td>\n      <td>0.166667</td>\n      <td>0.0</td>\n      <td>0.0</td>\n      <td>0.183735</td>\n      <td>0.406802</td>\n      <td>0.309757</td>\n      <td>0.0</td>\n      <td>...</td>\n      <td>0.0</td>\n      <td>0.333333</td>\n      <td>0.0</td>\n      <td>0.0</td>\n      <td>0.713178</td>\n      <td>0.724662</td>\n      <td>191</td>\n      <td>0</td>\n      <td>0</td>\n      <td>0.00000</td>\n    </tr>\n    <tr>\n      <th>1</th>\n      <td>1</td>\n      <td>2</td>\n      <td>0.609195</td>\n      <td>0.250000</td>\n      <td>0.0</td>\n      <td>0.0</td>\n      <td>0.283133</td>\n      <td>0.453019</td>\n      <td>0.352633</td>\n      <td>0.0</td>\n      <td>...</td>\n      <td>0.0</td>\n      <td>0.333333</td>\n      <td>0.0</td>\n      <td>0.0</td>\n      <td>0.666667</td>\n      <td>0.731014</td>\n      <td>190</td>\n      <td>0</td>\n      <td>0</td>\n      <td>0.00277</td>\n    </tr>\n    <tr>\n      <th>2</th>\n      <td>1</td>\n      <td>3</td>\n      <td>0.252874</td>\n      <td>0.750000</td>\n      <td>0.0</td>\n      <td>0.0</td>\n      <td>0.343373</td>\n      <td>0.369523</td>\n      <td>0.370527</td>\n      <td>0.0</td>\n      <td>...</td>\n      <td>0.0</td>\n      <td>0.166667</td>\n      <td>0.0</td>\n      <td>0.0</td>\n      <td>0.627907</td>\n      <td>0.621375</td>\n      <td>189</td>\n      <td>0</td>\n      <td>0</td>\n      <td>0.00554</td>\n    </tr>\n    <tr>\n      <th>3</th>\n      <td>1</td>\n      <td>4</td>\n      <td>0.540230</td>\n      <td>0.500000</td>\n      <td>0.0</td>\n      <td>0.0</td>\n      <td>0.343373</td>\n      <td>0.256159</td>\n      <td>0.331195</td>\n      <td>0.0</td>\n      <td>...</td>\n      <td>0.0</td>\n      <td>0.333333</td>\n      <td>0.0</td>\n      <td>0.0</td>\n      <td>0.573643</td>\n      <td>0.662386</td>\n      <td>188</td>\n      <td>0</td>\n      <td>0</td>\n      <td>0.00831</td>\n    </tr>\n    <tr>\n      <th>4</th>\n      <td>1</td>\n      <td>5</td>\n      <td>0.390805</td>\n      <td>0.333333</td>\n      <td>0.0</td>\n      <td>0.0</td>\n      <td>0.349398</td>\n      <td>0.257467</td>\n      <td>0.404625</td>\n      <td>0.0</td>\n      <td>...</td>\n      <td>0.0</td>\n      <td>0.416667</td>\n      <td>0.0</td>\n      <td>0.0</td>\n      <td>0.589147</td>\n      <td>0.704502</td>\n      <td>187</td>\n      <td>0</td>\n      <td>0</td>\n      <td>0.01108</td>\n    </tr>\n  </tbody>\n</table>\n<p>5 rows × 30 columns</p>\n</div>"
     },
     "metadata": {},
     "execution_count": 10
    }
   ],
   "source": [
    "# Normalizaremos os dados para 0 a 1 (MinMax)\n",
    "train_df['cycle_norm'] = train_df['cycle']\n",
    "cols_normalize = train_df.columns.difference(['id','cycle','RUL','label1','label2'])\n",
    "min_max_scaler = preprocessing.MinMaxScaler()\n",
    "norm_train_df = pd.DataFrame(min_max_scaler.fit_transform(train_df[cols_normalize]), \n",
    "                             columns=cols_normalize, \n",
    "                             index=train_df.index)\n",
    "join_df = train_df[train_df.columns.difference(cols_normalize)].join(norm_train_df)\n",
    "train_df = join_df.reindex(columns = train_df.columns)\n",
    "train_df.head()"
   ]
  },
  {
   "cell_type": "code",
   "execution_count": 11,
   "metadata": {},
   "outputs": [
    {
     "output_type": "execute_result",
     "data": {
      "text/plain": [
       "   id  cycle  setting1  setting2  setting3   s1        s2        s3        s4  \\\n",
       "0   1      1  0.632184  0.750000       0.0  0.0  0.545181  0.310661  0.269413   \n",
       "1   1      2  0.344828  0.250000       0.0  0.0  0.150602  0.379551  0.222316   \n",
       "2   1      3  0.517241  0.583333       0.0  0.0  0.376506  0.346632  0.322248   \n",
       "3   1      4  0.741379  0.500000       0.0  0.0  0.370482  0.285154  0.408001   \n",
       "4   1      5  0.580460  0.500000       0.0  0.0  0.391566  0.352082  0.332039   \n",
       "\n",
       "    s5  ...       s13       s14       s15  s16       s17  s18  s19       s20  \\\n",
       "0  0.0  ...  0.220588  0.132160  0.308965  0.0  0.333333  0.0  0.0  0.558140   \n",
       "1  0.0  ...  0.264706  0.204768  0.213159  0.0  0.416667  0.0  0.0  0.682171   \n",
       "2  0.0  ...  0.220588  0.155640  0.458638  0.0  0.416667  0.0  0.0  0.728682   \n",
       "3  0.0  ...  0.250000  0.170090  0.257022  0.0  0.250000  0.0  0.0  0.666667   \n",
       "4  0.0  ...  0.220588  0.152751  0.300885  0.0  0.166667  0.0  0.0  0.658915   \n",
       "\n",
       "        s21  cycle_norm  \n",
       "0  0.661834     0.00000  \n",
       "1  0.686827     0.00277  \n",
       "2  0.721348     0.00554  \n",
       "3  0.662110     0.00831  \n",
       "4  0.716377     0.01108  \n",
       "\n",
       "[5 rows x 27 columns]"
      ],
      "text/html": "<div>\n<style scoped>\n    .dataframe tbody tr th:only-of-type {\n        vertical-align: middle;\n    }\n\n    .dataframe tbody tr th {\n        vertical-align: top;\n    }\n\n    .dataframe thead th {\n        text-align: right;\n    }\n</style>\n<table border=\"1\" class=\"dataframe\">\n  <thead>\n    <tr style=\"text-align: right;\">\n      <th></th>\n      <th>id</th>\n      <th>cycle</th>\n      <th>setting1</th>\n      <th>setting2</th>\n      <th>setting3</th>\n      <th>s1</th>\n      <th>s2</th>\n      <th>s3</th>\n      <th>s4</th>\n      <th>s5</th>\n      <th>...</th>\n      <th>s13</th>\n      <th>s14</th>\n      <th>s15</th>\n      <th>s16</th>\n      <th>s17</th>\n      <th>s18</th>\n      <th>s19</th>\n      <th>s20</th>\n      <th>s21</th>\n      <th>cycle_norm</th>\n    </tr>\n  </thead>\n  <tbody>\n    <tr>\n      <th>0</th>\n      <td>1</td>\n      <td>1</td>\n      <td>0.632184</td>\n      <td>0.750000</td>\n      <td>0.0</td>\n      <td>0.0</td>\n      <td>0.545181</td>\n      <td>0.310661</td>\n      <td>0.269413</td>\n      <td>0.0</td>\n      <td>...</td>\n      <td>0.220588</td>\n      <td>0.132160</td>\n      <td>0.308965</td>\n      <td>0.0</td>\n      <td>0.333333</td>\n      <td>0.0</td>\n      <td>0.0</td>\n      <td>0.558140</td>\n      <td>0.661834</td>\n      <td>0.00000</td>\n    </tr>\n    <tr>\n      <th>1</th>\n      <td>1</td>\n      <td>2</td>\n      <td>0.344828</td>\n      <td>0.250000</td>\n      <td>0.0</td>\n      <td>0.0</td>\n      <td>0.150602</td>\n      <td>0.379551</td>\n      <td>0.222316</td>\n      <td>0.0</td>\n      <td>...</td>\n      <td>0.264706</td>\n      <td>0.204768</td>\n      <td>0.213159</td>\n      <td>0.0</td>\n      <td>0.416667</td>\n      <td>0.0</td>\n      <td>0.0</td>\n      <td>0.682171</td>\n      <td>0.686827</td>\n      <td>0.00277</td>\n    </tr>\n    <tr>\n      <th>2</th>\n      <td>1</td>\n      <td>3</td>\n      <td>0.517241</td>\n      <td>0.583333</td>\n      <td>0.0</td>\n      <td>0.0</td>\n      <td>0.376506</td>\n      <td>0.346632</td>\n      <td>0.322248</td>\n      <td>0.0</td>\n      <td>...</td>\n      <td>0.220588</td>\n      <td>0.155640</td>\n      <td>0.458638</td>\n      <td>0.0</td>\n      <td>0.416667</td>\n      <td>0.0</td>\n      <td>0.0</td>\n      <td>0.728682</td>\n      <td>0.721348</td>\n      <td>0.00554</td>\n    </tr>\n    <tr>\n      <th>3</th>\n      <td>1</td>\n      <td>4</td>\n      <td>0.741379</td>\n      <td>0.500000</td>\n      <td>0.0</td>\n      <td>0.0</td>\n      <td>0.370482</td>\n      <td>0.285154</td>\n      <td>0.408001</td>\n      <td>0.0</td>\n      <td>...</td>\n      <td>0.250000</td>\n      <td>0.170090</td>\n      <td>0.257022</td>\n      <td>0.0</td>\n      <td>0.250000</td>\n      <td>0.0</td>\n      <td>0.0</td>\n      <td>0.666667</td>\n      <td>0.662110</td>\n      <td>0.00831</td>\n    </tr>\n    <tr>\n      <th>4</th>\n      <td>1</td>\n      <td>5</td>\n      <td>0.580460</td>\n      <td>0.500000</td>\n      <td>0.0</td>\n      <td>0.0</td>\n      <td>0.391566</td>\n      <td>0.352082</td>\n      <td>0.332039</td>\n      <td>0.0</td>\n      <td>...</td>\n      <td>0.220588</td>\n      <td>0.152751</td>\n      <td>0.300885</td>\n      <td>0.0</td>\n      <td>0.166667</td>\n      <td>0.0</td>\n      <td>0.0</td>\n      <td>0.658915</td>\n      <td>0.716377</td>\n      <td>0.01108</td>\n    </tr>\n  </tbody>\n</table>\n<p>5 rows × 27 columns</p>\n</div>"
     },
     "metadata": {},
     "execution_count": 11
    }
   ],
   "source": [
    "\n",
    "## Dataset de Teste (df_test)\n",
    "\n",
    "# Normalizaremos os dados para 0 a 1\n",
    "\n",
    "\n",
    "test_df['cycle_norm'] = test_df['cycle']\n",
    "norm_test_df = pd.DataFrame(min_max_scaler.transform(test_df[cols_normalize]), \n",
    "                            columns=cols_normalize, \n",
    "                            index=test_df.index)\n",
    "test_join_df = test_df[test_df.columns.difference(cols_normalize)].join(norm_test_df)\n",
    "test_df = test_join_df.reindex(columns = test_df.columns)\n",
    "test_df = test_df.reset_index(drop=True)\n",
    "test_df.head()"
   ]
  },
  {
   "cell_type": "code",
   "execution_count": 12,
   "metadata": {
    "collapsed": true
   },
   "outputs": [],
   "source": [
    "# usaremos o dataset PM_truth para o RUL com base no ciclo máximo do PM_truth\n",
    "\n",
    "rul = pd.DataFrame(test_df.groupby('id')['cycle'].max()).reset_index()\n",
    "rul.columns = ['id', 'max']\n",
    "truth_df.columns = ['more']\n",
    "truth_df['id'] = truth_df.index + 1\n",
    "truth_df['max'] = rul['max'] + truth_df['more']\n",
    "truth_df.drop('more', axis=1, inplace=True)"
   ]
  },
  {
   "cell_type": "code",
   "execution_count": 13,
   "metadata": {},
   "outputs": [
    {
     "output_type": "execute_result",
     "data": {
      "text/plain": [
       "   id  cycle  setting1  setting2  setting3   s1        s2        s3        s4  \\\n",
       "0   1      1  0.632184  0.750000       0.0  0.0  0.545181  0.310661  0.269413   \n",
       "1   1      2  0.344828  0.250000       0.0  0.0  0.150602  0.379551  0.222316   \n",
       "2   1      3  0.517241  0.583333       0.0  0.0  0.376506  0.346632  0.322248   \n",
       "3   1      4  0.741379  0.500000       0.0  0.0  0.370482  0.285154  0.408001   \n",
       "4   1      5  0.580460  0.500000       0.0  0.0  0.391566  0.352082  0.332039   \n",
       "\n",
       "    s5  ...       s14       s15  s16       s17  s18  s19       s20       s21  \\\n",
       "0  0.0  ...  0.132160  0.308965  0.0  0.333333  0.0  0.0  0.558140  0.661834   \n",
       "1  0.0  ...  0.204768  0.213159  0.0  0.416667  0.0  0.0  0.682171  0.686827   \n",
       "2  0.0  ...  0.155640  0.458638  0.0  0.416667  0.0  0.0  0.728682  0.721348   \n",
       "3  0.0  ...  0.170090  0.257022  0.0  0.250000  0.0  0.0  0.666667  0.662110   \n",
       "4  0.0  ...  0.152751  0.300885  0.0  0.166667  0.0  0.0  0.658915  0.716377   \n",
       "\n",
       "   cycle_norm  RUL  \n",
       "0     0.00000  142  \n",
       "1     0.00277  141  \n",
       "2     0.00554  140  \n",
       "3     0.00831  139  \n",
       "4     0.01108  138  \n",
       "\n",
       "[5 rows x 28 columns]"
      ],
      "text/html": "<div>\n<style scoped>\n    .dataframe tbody tr th:only-of-type {\n        vertical-align: middle;\n    }\n\n    .dataframe tbody tr th {\n        vertical-align: top;\n    }\n\n    .dataframe thead th {\n        text-align: right;\n    }\n</style>\n<table border=\"1\" class=\"dataframe\">\n  <thead>\n    <tr style=\"text-align: right;\">\n      <th></th>\n      <th>id</th>\n      <th>cycle</th>\n      <th>setting1</th>\n      <th>setting2</th>\n      <th>setting3</th>\n      <th>s1</th>\n      <th>s2</th>\n      <th>s3</th>\n      <th>s4</th>\n      <th>s5</th>\n      <th>...</th>\n      <th>s14</th>\n      <th>s15</th>\n      <th>s16</th>\n      <th>s17</th>\n      <th>s18</th>\n      <th>s19</th>\n      <th>s20</th>\n      <th>s21</th>\n      <th>cycle_norm</th>\n      <th>RUL</th>\n    </tr>\n  </thead>\n  <tbody>\n    <tr>\n      <th>0</th>\n      <td>1</td>\n      <td>1</td>\n      <td>0.632184</td>\n      <td>0.750000</td>\n      <td>0.0</td>\n      <td>0.0</td>\n      <td>0.545181</td>\n      <td>0.310661</td>\n      <td>0.269413</td>\n      <td>0.0</td>\n      <td>...</td>\n      <td>0.132160</td>\n      <td>0.308965</td>\n      <td>0.0</td>\n      <td>0.333333</td>\n      <td>0.0</td>\n      <td>0.0</td>\n      <td>0.558140</td>\n      <td>0.661834</td>\n      <td>0.00000</td>\n      <td>142</td>\n    </tr>\n    <tr>\n      <th>1</th>\n      <td>1</td>\n      <td>2</td>\n      <td>0.344828</td>\n      <td>0.250000</td>\n      <td>0.0</td>\n      <td>0.0</td>\n      <td>0.150602</td>\n      <td>0.379551</td>\n      <td>0.222316</td>\n      <td>0.0</td>\n      <td>...</td>\n      <td>0.204768</td>\n      <td>0.213159</td>\n      <td>0.0</td>\n      <td>0.416667</td>\n      <td>0.0</td>\n      <td>0.0</td>\n      <td>0.682171</td>\n      <td>0.686827</td>\n      <td>0.00277</td>\n      <td>141</td>\n    </tr>\n    <tr>\n      <th>2</th>\n      <td>1</td>\n      <td>3</td>\n      <td>0.517241</td>\n      <td>0.583333</td>\n      <td>0.0</td>\n      <td>0.0</td>\n      <td>0.376506</td>\n      <td>0.346632</td>\n      <td>0.322248</td>\n      <td>0.0</td>\n      <td>...</td>\n      <td>0.155640</td>\n      <td>0.458638</td>\n      <td>0.0</td>\n      <td>0.416667</td>\n      <td>0.0</td>\n      <td>0.0</td>\n      <td>0.728682</td>\n      <td>0.721348</td>\n      <td>0.00554</td>\n      <td>140</td>\n    </tr>\n    <tr>\n      <th>3</th>\n      <td>1</td>\n      <td>4</td>\n      <td>0.741379</td>\n      <td>0.500000</td>\n      <td>0.0</td>\n      <td>0.0</td>\n      <td>0.370482</td>\n      <td>0.285154</td>\n      <td>0.408001</td>\n      <td>0.0</td>\n      <td>...</td>\n      <td>0.170090</td>\n      <td>0.257022</td>\n      <td>0.0</td>\n      <td>0.250000</td>\n      <td>0.0</td>\n      <td>0.0</td>\n      <td>0.666667</td>\n      <td>0.662110</td>\n      <td>0.00831</td>\n      <td>139</td>\n    </tr>\n    <tr>\n      <th>4</th>\n      <td>1</td>\n      <td>5</td>\n      <td>0.580460</td>\n      <td>0.500000</td>\n      <td>0.0</td>\n      <td>0.0</td>\n      <td>0.391566</td>\n      <td>0.352082</td>\n      <td>0.332039</td>\n      <td>0.0</td>\n      <td>...</td>\n      <td>0.152751</td>\n      <td>0.300885</td>\n      <td>0.0</td>\n      <td>0.166667</td>\n      <td>0.0</td>\n      <td>0.0</td>\n      <td>0.658915</td>\n      <td>0.716377</td>\n      <td>0.01108</td>\n      <td>138</td>\n    </tr>\n  </tbody>\n</table>\n<p>5 rows × 28 columns</p>\n</div>"
     },
     "metadata": {},
     "execution_count": 13
    }
   ],
   "source": [
    "# gerar a coluna RUL para o dataset de teste \n",
    "\n",
    "test_df = test_df.merge(truth_df, on=['id'], how='left')\n",
    "test_df['RUL'] = test_df['max'] - test_df['cycle']\n",
    "test_df.drop('max', axis=1, inplace=True)\n",
    "test_df.head()"
   ]
  },
  {
   "cell_type": "code",
   "execution_count": 14,
   "metadata": {},
   "outputs": [
    {
     "output_type": "execute_result",
     "data": {
      "text/plain": [
       "   id  cycle  setting1  setting2  setting3   s1        s2        s3        s4  \\\n",
       "0   1      1  0.632184  0.750000       0.0  0.0  0.545181  0.310661  0.269413   \n",
       "1   1      2  0.344828  0.250000       0.0  0.0  0.150602  0.379551  0.222316   \n",
       "2   1      3  0.517241  0.583333       0.0  0.0  0.376506  0.346632  0.322248   \n",
       "3   1      4  0.741379  0.500000       0.0  0.0  0.370482  0.285154  0.408001   \n",
       "4   1      5  0.580460  0.500000       0.0  0.0  0.391566  0.352082  0.332039   \n",
       "\n",
       "    s5  ...  s16       s17  s18  s19       s20       s21  cycle_norm  RUL  \\\n",
       "0  0.0  ...  0.0  0.333333  0.0  0.0  0.558140  0.661834     0.00000  142   \n",
       "1  0.0  ...  0.0  0.416667  0.0  0.0  0.682171  0.686827     0.00277  141   \n",
       "2  0.0  ...  0.0  0.416667  0.0  0.0  0.728682  0.721348     0.00554  140   \n",
       "3  0.0  ...  0.0  0.250000  0.0  0.0  0.666667  0.662110     0.00831  139   \n",
       "4  0.0  ...  0.0  0.166667  0.0  0.0  0.658915  0.716377     0.01108  138   \n",
       "\n",
       "   label1  label2  \n",
       "0       0       0  \n",
       "1       0       0  \n",
       "2       0       0  \n",
       "3       0       0  \n",
       "4       0       0  \n",
       "\n",
       "[5 rows x 30 columns]"
      ],
      "text/html": "<div>\n<style scoped>\n    .dataframe tbody tr th:only-of-type {\n        vertical-align: middle;\n    }\n\n    .dataframe tbody tr th {\n        vertical-align: top;\n    }\n\n    .dataframe thead th {\n        text-align: right;\n    }\n</style>\n<table border=\"1\" class=\"dataframe\">\n  <thead>\n    <tr style=\"text-align: right;\">\n      <th></th>\n      <th>id</th>\n      <th>cycle</th>\n      <th>setting1</th>\n      <th>setting2</th>\n      <th>setting3</th>\n      <th>s1</th>\n      <th>s2</th>\n      <th>s3</th>\n      <th>s4</th>\n      <th>s5</th>\n      <th>...</th>\n      <th>s16</th>\n      <th>s17</th>\n      <th>s18</th>\n      <th>s19</th>\n      <th>s20</th>\n      <th>s21</th>\n      <th>cycle_norm</th>\n      <th>RUL</th>\n      <th>label1</th>\n      <th>label2</th>\n    </tr>\n  </thead>\n  <tbody>\n    <tr>\n      <th>0</th>\n      <td>1</td>\n      <td>1</td>\n      <td>0.632184</td>\n      <td>0.750000</td>\n      <td>0.0</td>\n      <td>0.0</td>\n      <td>0.545181</td>\n      <td>0.310661</td>\n      <td>0.269413</td>\n      <td>0.0</td>\n      <td>...</td>\n      <td>0.0</td>\n      <td>0.333333</td>\n      <td>0.0</td>\n      <td>0.0</td>\n      <td>0.558140</td>\n      <td>0.661834</td>\n      <td>0.00000</td>\n      <td>142</td>\n      <td>0</td>\n      <td>0</td>\n    </tr>\n    <tr>\n      <th>1</th>\n      <td>1</td>\n      <td>2</td>\n      <td>0.344828</td>\n      <td>0.250000</td>\n      <td>0.0</td>\n      <td>0.0</td>\n      <td>0.150602</td>\n      <td>0.379551</td>\n      <td>0.222316</td>\n      <td>0.0</td>\n      <td>...</td>\n      <td>0.0</td>\n      <td>0.416667</td>\n      <td>0.0</td>\n      <td>0.0</td>\n      <td>0.682171</td>\n      <td>0.686827</td>\n      <td>0.00277</td>\n      <td>141</td>\n      <td>0</td>\n      <td>0</td>\n    </tr>\n    <tr>\n      <th>2</th>\n      <td>1</td>\n      <td>3</td>\n      <td>0.517241</td>\n      <td>0.583333</td>\n      <td>0.0</td>\n      <td>0.0</td>\n      <td>0.376506</td>\n      <td>0.346632</td>\n      <td>0.322248</td>\n      <td>0.0</td>\n      <td>...</td>\n      <td>0.0</td>\n      <td>0.416667</td>\n      <td>0.0</td>\n      <td>0.0</td>\n      <td>0.728682</td>\n      <td>0.721348</td>\n      <td>0.00554</td>\n      <td>140</td>\n      <td>0</td>\n      <td>0</td>\n    </tr>\n    <tr>\n      <th>3</th>\n      <td>1</td>\n      <td>4</td>\n      <td>0.741379</td>\n      <td>0.500000</td>\n      <td>0.0</td>\n      <td>0.0</td>\n      <td>0.370482</td>\n      <td>0.285154</td>\n      <td>0.408001</td>\n      <td>0.0</td>\n      <td>...</td>\n      <td>0.0</td>\n      <td>0.250000</td>\n      <td>0.0</td>\n      <td>0.0</td>\n      <td>0.666667</td>\n      <td>0.662110</td>\n      <td>0.00831</td>\n      <td>139</td>\n      <td>0</td>\n      <td>0</td>\n    </tr>\n    <tr>\n      <th>4</th>\n      <td>1</td>\n      <td>5</td>\n      <td>0.580460</td>\n      <td>0.500000</td>\n      <td>0.0</td>\n      <td>0.0</td>\n      <td>0.391566</td>\n      <td>0.352082</td>\n      <td>0.332039</td>\n      <td>0.0</td>\n      <td>...</td>\n      <td>0.0</td>\n      <td>0.166667</td>\n      <td>0.0</td>\n      <td>0.0</td>\n      <td>0.658915</td>\n      <td>0.716377</td>\n      <td>0.01108</td>\n      <td>138</td>\n      <td>0</td>\n      <td>0</td>\n    </tr>\n  </tbody>\n</table>\n<p>5 rows × 30 columns</p>\n</div>"
     },
     "metadata": {},
     "execution_count": 14
    }
   ],
   "source": [
    "# gerar colunas para marcar o w0 e w1 aos dados de teste\n",
    "\n",
    "test_df['label1'] = np.where(test_df['RUL'] <= w1, 1, 0 )\n",
    "test_df['label2'] = test_df['label1']\n",
    "test_df.loc[test_df['RUL'] <= w0, 'label2'] = 2\n",
    "test_df.head()"
   ]
  },
  {
   "cell_type": "code",
   "execution_count": 15,
   "metadata": {
    "collapsed": true
   },
   "outputs": [],
   "source": [
    "# criar uma janela do tempo com 50 unidades do tempo\n",
    "sequence_length = 20"
   ]
  },
  {
   "cell_type": "code",
   "execution_count": 16,
   "metadata": {
    "collapsed": true
   },
   "outputs": [],
   "source": [
    "# função para gerar a sequência\n",
    "def gen_sequence(id_df, seq_length, seq_cols):\n",
    "    data_array = id_df[seq_cols].values\n",
    "    num_elements = data_array.shape[0]\n",
    "    for start, stop in zip(range(0, num_elements-seq_length), range(seq_length, num_elements)):\n",
    "        yield data_array[start:stop, :]"
   ]
  },
  {
   "cell_type": "code",
   "execution_count": 17,
   "metadata": {
    "collapsed": true
   },
   "outputs": [],
   "source": [
    "sensor_cols = ['s' + str(i) for i in range(1,22)]\n",
    "sequence_cols = ['setting1', 'setting2', 'setting3', 'cycle_norm']\n",
    "sequence_cols.extend(sensor_cols)"
   ]
  },
  {
   "cell_type": "code",
   "execution_count": 18,
   "metadata": {
    "collapsed": true
   },
   "outputs": [],
   "source": [
    "# gerar as sequências do formato que o Keras aceite, passando o o tamanho da sequência (50), e as colunas que contém informações dos sensores e configurações da máquina\n",
    "\n",
    "seq_gen = (list(gen_sequence(train_df[train_df['id']==id], sequence_length, sequence_cols)) \n",
    "           for id in train_df['id'].unique())"
   ]
  },
  {
   "cell_type": "code",
   "execution_count": 19,
   "metadata": {},
   "outputs": [
    {
     "output_type": "execute_result",
     "data": {
      "text/plain": [
       "(18631, 20, 25)"
      ]
     },
     "metadata": {},
     "execution_count": 19
    }
   ],
   "source": [
    "# além de gerar as sequências, converter ao nparray \n",
    "\n",
    "seq_array = np.concatenate(list(seq_gen)).astype(np.float32)\n",
    "seq_array.shape"
   ]
  },
  {
   "cell_type": "code",
   "execution_count": 20,
   "metadata": {
    "collapsed": true
   },
   "outputs": [],
   "source": [
    "# função para gerar labels\n",
    "\n",
    "def gen_labels(id_df, seq_length, label):\n",
    "    data_array = id_df[label].values\n",
    "    num_elements = data_array.shape[0]\n",
    "    return data_array[seq_length:num_elements, :]"
   ]
  },
  {
   "cell_type": "code",
   "execution_count": 21,
   "metadata": {},
   "outputs": [
    {
     "output_type": "execute_result",
     "data": {
      "text/plain": [
       "(18631, 1)"
      ]
     },
     "metadata": {},
     "execution_count": 21
    }
   ],
   "source": [
    "# gerar labels\n",
    "\n",
    "label_gen = [gen_labels(train_df[train_df['id']==id], sequence_length, ['label1']) \n",
    "             for id in train_df['id'].unique()]\n",
    "label_array = np.concatenate(label_gen).astype(np.float32)\n",
    "label_array.shape"
   ]
  },
  {
   "cell_type": "code",
   "execution_count": 22,
   "metadata": {
    "collapsed": true
   },
   "outputs": [
    {
     "output_type": "stream",
     "name": "stdout",
     "text": [
      "Model: \"sequential\"\n_________________________________________________________________\nLayer (type)                 Output Shape              Param #   \n=================================================================\nlstm (LSTM)                  (None, 20, 100)           50400     \n_________________________________________________________________\ndropout (Dropout)            (None, 20, 100)           0         \n_________________________________________________________________\nlstm_1 (LSTM)                (None, 50)                30200     \n_________________________________________________________________\ndropout_1 (Dropout)          (None, 50)                0         \n_________________________________________________________________\ndense (Dense)                (None, 1)                 51        \n=================================================================\nTotal params: 80,651\nTrainable params: 80,651\nNon-trainable params: 0\n_________________________________________________________________\nNone\n"
     ]
    }
   ],
   "source": [
    "# função para construirmos o modelo LTSM \n",
    "\n",
    "nb_features = seq_array.shape[2]\n",
    "nb_out = label_array.shape[1]\n",
    "\n",
    "model = Sequential()\n",
    "\n",
    "# Adicionar as camadas utilizada para as redes neurais do modelo\n",
    "\n",
    "model.add(LSTM(\n",
    "         input_shape=(sequence_length, nb_features),\n",
    "         units=100,\n",
    "         return_sequences=True))\n",
    "model.add(Dropout(0.2))\n",
    "\n",
    "model.add(LSTM(\n",
    "          units=50,\n",
    "          return_sequences=False))\n",
    "model.add(Dropout(0.2))\n",
    "\n",
    "# A última camada deverá retornar a probabilidade, por isso usaremos Sigmoid.\n",
    "\n",
    "model.add(Dense(units=nb_out, activation='sigmoid'))\n",
    "model.compile(loss='binary_crossentropy', optimizer='adam', metrics=['accuracy'])\n",
    "print(model.summary())"
   ]
  },
  {
   "cell_type": "code",
   "execution_count": 23,
   "metadata": {},
   "outputs": [
    {
     "output_type": "stream",
     "name": "stdout",
     "text": [
      "Epoch 1/100\n",
      "89/89 [==============================] - 22s 61ms/step - loss: 0.3002 - accuracy: 0.9051 - val_loss: 0.1314 - val_accuracy: 0.9453\n"
     ]
    },
    {
     "output_type": "execute_result",
     "data": {
      "text/plain": [
       "<keras.callbacks.History at 0x22bb1c7efa0>"
      ]
     },
     "metadata": {},
     "execution_count": 23
    }
   ],
   "source": [
    "# treinar o modelo desenvolvido passando os parametros previsores e os parametros de treinamento\n",
    "model.fit(seq_array, label_array, epochs=100, batch_size=200, validation_split=0.05, verbose=1,\n",
    "          callbacks = [keras.callbacks.EarlyStopping(monitor='val_loss', min_delta=0, patience=0, verbose=0, mode='auto')])"
   ]
  },
  {
   "cell_type": "code",
   "execution_count": 24,
   "metadata": {},
   "outputs": [
    {
     "output_type": "stream",
     "name": "stdout",
     "text": [
      "94/94 [==============================] - 2s 16ms/step - loss: 0.1089 - accuracy: 0.9561\n",
      "Acurácia: 0.9561483263969421\n"
     ]
    }
   ],
   "source": [
    "# gerar métricas ao modelo. Nesse caso, foi possível identificar o erro (loss) e a acurácia (accuracy) de nosso modelo. \n",
    "\n",
    "scores = model.evaluate(seq_array, label_array, verbose=1, batch_size=200)\n",
    "print('Acurácia: {}'.format(scores[1]))"
   ]
  },
  {
   "cell_type": "code",
   "execution_count": 25,
   "metadata": {},
   "outputs": [
    {
     "output_type": "stream",
     "name": "stderr",
     "text": [
      "C:\\Users\\mayco\\anaconda3\\lib\\site-packages\\keras\\engine\\sequential.py:450: UserWarning: `model.predict_classes()` is deprecated and will be removed after 2021-01-01. Please use instead:* `np.argmax(model.predict(x), axis=-1)`,   if your model does multi-class classification   (e.g. if it uses a `softmax` last-layer activation).* `(model.predict(x) > 0.5).astype(\"int32\")`,   if your model does binary classification   (e.g. if it uses a `sigmoid` last-layer activation).\n",
      "  warnings.warn('`model.predict_classes()` is deprecated and '\n",
      "94/94 [==============================] - 3s 16ms/step\n"
     ]
    },
    {
     "output_type": "execute_result",
     "data": {
      "text/plain": [
       "array([[16258,   273],\n",
       "       [  544,  1556]], dtype=int64)"
      ]
     },
     "metadata": {},
     "execution_count": 25
    }
   ],
   "source": [
    "# por final, vamos fazer as predições para os dados de testes\n",
    "\n",
    "y_pred = model.predict_classes(seq_array,verbose=1, batch_size=200) # dados previstos\n",
    "y_true = label_array # dados verdadeiros \n",
    "cm = confusion_matrix(y_true, y_pred)\n",
    "cm"
   ]
  },
  {
   "cell_type": "code",
   "execution_count": 26,
   "metadata": {},
   "outputs": [
    {
     "output_type": "stream",
     "name": "stdout",
     "text": [
      "precisão =  0.8507381082558775 \n  recall =  0.7409523809523809\n"
     ]
    }
   ],
   "source": [
    "# calcular as métricas de precisão e a sensibilidade de nosso modelo (nos casos positivos, quantos valores esperados estão corretos)\n",
    "precision = precision_score(y_true, y_pred)\n",
    "recall = recall_score(y_true, y_pred)\n",
    "print( 'precisão = ', precision, '\\n', ' recall = ', recall)"
   ]
  },
  {
   "cell_type": "code",
   "execution_count": 27,
   "metadata": {},
   "outputs": [
    {
     "output_type": "execute_result",
     "data": {
      "text/plain": [
       "(100, 20, 25)"
      ]
     },
     "metadata": {},
     "execution_count": 27
    }
   ],
   "source": [
    "# gerar vetor, onde cada elemento é o último ciclo antes da falha\n",
    "\n",
    "seq_array_test_last = [test_df[test_df['id']==id][sequence_cols].values[-sequence_length:] \n",
    "                       for id in test_df['id'].unique() if len(test_df[test_df['id']==id]) >= sequence_length]\n",
    "seq_array_test_last = np.asarray(seq_array_test_last).astype(np.float32)\n",
    "seq_array_test_last.shape"
   ]
  },
  {
   "cell_type": "code",
   "execution_count": 28,
   "metadata": {},
   "outputs": [
    {
     "output_type": "execute_result",
     "data": {
      "text/plain": [
       "(100, 1)"
      ]
     },
     "metadata": {},
     "execution_count": 28
    }
   ],
   "source": [
    "y_mask = [len(test_df[test_df['id']==id]) >= sequence_length for id in test_df['id'].unique()]\n",
    "label_array_test_last = test_df.groupby('id')['label1'].nth(-1)[y_mask].values\n",
    "label_array_test_last = label_array_test_last.reshape(label_array_test_last.shape[0],1).astype(np.float32)\n",
    "label_array_test_last.shape"
   ]
  },
  {
   "cell_type": "code",
   "execution_count": 29,
   "metadata": {},
   "outputs": [
    {
     "output_type": "stream",
     "name": "stdout",
     "text": [
      "(100, 20, 25)\n(100, 1)\n"
     ]
    }
   ],
   "source": [
    "print(seq_array_test_last.shape)\n",
    "print(label_array_test_last.shape)"
   ]
  },
  {
   "cell_type": "code",
   "execution_count": 30,
   "metadata": {},
   "outputs": [
    {
     "output_type": "stream",
     "name": "stdout",
     "text": [
      "4/4 - 0s - loss: 0.2033 - accuracy: 0.9300\n",
      "Acurácia: 0.9300000071525574\n"
     ]
    }
   ],
   "source": [
    "# Verificar as métricas de perda, acurácia e precisão\n",
    "\n",
    "scores_test = model.evaluate(seq_array_test_last, label_array_test_last, verbose=2)\n",
    "print('Acurácia: {}'.format(scores_test[1]))"
   ]
  },
  {
   "cell_type": "code",
   "execution_count": 31,
   "metadata": {},
   "outputs": [
    {
     "output_type": "stream",
     "name": "stdout",
     "text": [
      "Confusion matrix\n",
      "C:\\Users\\mayco\\anaconda3\\lib\\site-packages\\keras\\engine\\sequential.py:450: UserWarning: `model.predict_classes()` is deprecated and will be removed after 2021-01-01. Please use instead:* `np.argmax(model.predict(x), axis=-1)`,   if your model does multi-class classification   (e.g. if it uses a `softmax` last-layer activation).* `(model.predict(x) > 0.5).astype(\"int32\")`,   if your model does binary classification   (e.g. if it uses a `sigmoid` last-layer activation).\n",
      "  warnings.warn('`model.predict_classes()` is deprecated and '\n"
     ]
    },
    {
     "output_type": "execute_result",
     "data": {
      "text/plain": [
       "array([[83,  1],\n",
       "       [ 6, 10]], dtype=int64)"
      ]
     },
     "metadata": {},
     "execution_count": 31
    }
   ],
   "source": [
    "# Fazer predições e calcular as matrizes de confusões\n",
    "\n",
    "y_pred_test = model.predict_classes(seq_array_test_last)\n",
    "y_true_test = label_array_test_last\n",
    "print('Confusion matrix')\n",
    "cm = confusion_matrix(y_true_test, y_pred_test)\n",
    "cm"
   ]
  },
  {
   "cell_type": "code",
   "execution_count": 32,
   "metadata": {},
   "outputs": [
    {
     "output_type": "stream",
     "name": "stdout",
     "text": [
      "Precision:  0.9090909090909091 \n Recall:  0.625 \n F1-score: 0.7407407407407406\n"
     ]
    }
   ],
   "source": [
    "# calcular o recall, precisão e f1 score\n",
    "\n",
    "precision_test = precision_score(y_true_test, y_pred_test)\n",
    "recall_test = recall_score(y_true_test, y_pred_test)\n",
    "f1_test = 2 * (precision_test * recall_test) / (precision_test + recall_test)\n",
    "print( 'Precision: ', precision_test, '\\n', 'Recall: ', recall_test,'\\n', 'F1-score:', f1_test )\n"
   ]
  },
  {
   "cell_type": "code",
   "execution_count": 33,
   "metadata": {},
   "outputs": [],
   "source": [
    "dados = pd.DataFrame(y_pred_test)\n",
    "dados.reset_index()\n",
    "dados.columns=['predict']\n",
    "dados['predict'].to_csv('classificacao_mayconmota.csv', index=False)"
   ]
  },
  {
   "cell_type": "code",
   "execution_count": 34,
   "metadata": {},
   "outputs": [
    {
     "output_type": "execute_result",
     "data": {
      "text/plain": [
       "    predict\n",
       "0         0\n",
       "1         0\n",
       "2         0\n",
       "3         0\n",
       "4         0\n",
       "..      ...\n",
       "95        0\n",
       "96        0\n",
       "97        0\n",
       "98        0\n",
       "99        0\n",
       "\n",
       "[100 rows x 1 columns]"
      ],
      "text/html": "<div>\n<style scoped>\n    .dataframe tbody tr th:only-of-type {\n        vertical-align: middle;\n    }\n\n    .dataframe tbody tr th {\n        vertical-align: top;\n    }\n\n    .dataframe thead th {\n        text-align: right;\n    }\n</style>\n<table border=\"1\" class=\"dataframe\">\n  <thead>\n    <tr style=\"text-align: right;\">\n      <th></th>\n      <th>predict</th>\n    </tr>\n  </thead>\n  <tbody>\n    <tr>\n      <th>0</th>\n      <td>0</td>\n    </tr>\n    <tr>\n      <th>1</th>\n      <td>0</td>\n    </tr>\n    <tr>\n      <th>2</th>\n      <td>0</td>\n    </tr>\n    <tr>\n      <th>3</th>\n      <td>0</td>\n    </tr>\n    <tr>\n      <th>4</th>\n      <td>0</td>\n    </tr>\n    <tr>\n      <th>...</th>\n      <td>...</td>\n    </tr>\n    <tr>\n      <th>95</th>\n      <td>0</td>\n    </tr>\n    <tr>\n      <th>96</th>\n      <td>0</td>\n    </tr>\n    <tr>\n      <th>97</th>\n      <td>0</td>\n    </tr>\n    <tr>\n      <th>98</th>\n      <td>0</td>\n    </tr>\n    <tr>\n      <th>99</th>\n      <td>0</td>\n    </tr>\n  </tbody>\n</table>\n<p>100 rows × 1 columns</p>\n</div>"
     },
     "metadata": {},
     "execution_count": 34
    }
   ],
   "source": [
    "dados"
   ]
  },
  {
   "cell_type": "code",
   "execution_count": null,
   "metadata": {},
   "outputs": [],
   "source": []
  }
 ],
 "metadata": {
  "anaconda-cloud": {},
  "kernelspec": {
   "name": "python385jvsc74a57bd080df4573815e2fbc1434c8f9d7234411ca19ec91ea5669cedcae75f03f5659be",
   "display_name": "Python 3.8.5 64-bit ('base': conda)"
  },
  "language_info": {
   "codemirror_mode": {
    "name": "ipython",
    "version": 3
   },
   "file_extension": ".py",
   "mimetype": "text/x-python",
   "name": "python",
   "nbconvert_exporter": "python",
   "pygments_lexer": "ipython3",
   "version": "3.8.5"
  }
 },
 "nbformat": 4,
 "nbformat_minor": 2
}